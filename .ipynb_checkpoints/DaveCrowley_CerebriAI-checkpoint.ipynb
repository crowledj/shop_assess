{
 "cells": [
  {
   "cell_type": "code",
   "execution_count": 106,
   "metadata": {},
   "outputs": [],
   "source": [
    "import pandas as pd\n",
    "import numpy as np,scipy as sp\n",
    "import csv,os,sys\n",
    "# Visualisation\n",
    "import matplotlib as mpl\n",
    "import matplotlib.pyplot as plt\n",
    "import matplotlib.pylab as pylab\n",
    "import seaborn as sns\n",
    "\n",
    "# Configure visualisations\n",
    "%matplotlib inline\n",
    "import datetime as dt "
   ]
  },
  {
   "cell_type": "code",
   "execution_count": 4,
   "metadata": {},
   "outputs": [],
   "source": [
    "input_data_csv='/Users/crowledj/Downloads/shop_data_assessment/shop_data.csv';\n",
    "shop_data= pd.read_csv(input_data_csv) "
   ]
  },
  {
   "cell_type": "code",
   "execution_count": 5,
   "metadata": {},
   "outputs": [
    {
     "name": "stdout",
     "output_type": "stream",
     "text": [
      "Dataset: full_input_data: (1150000, 13)\n"
     ]
    }
   ],
   "source": [
    "#Look at size of dataset and no. of variables :\n",
    "print ('Dataset:' , 'full_input_data:' , shop_data.shape);"
   ]
  },
  {
   "cell_type": "code",
   "execution_count": 97,
   "metadata": {},
   "outputs": [
    {
     "data": {
      "text/plain": [
       "id     date      \n",
       "86246  2012-03-02    210.51\n",
       "       2012-03-03     47.59\n",
       "       2012-03-04     32.38\n",
       "       2012-03-05     34.99\n",
       "       2012-03-06    182.33\n",
       "Name: purchaseamount, dtype: float64"
      ]
     },
     "execution_count": 97,
     "metadata": {},
     "output_type": "execute_result"
    }
   ],
   "source": [
    "## Q 1. \n",
    "\n",
    "purchaseSum = shop_data.groupby(['id','date']).purchaseamount.sum();\n",
    "# shop_data_new = pd.concat([shop_data, purchaseSum], axis=1) \n",
    "purchaseSum.head()"
   ]
  },
  {
   "cell_type": "code",
   "execution_count": 11,
   "metadata": {},
   "outputs": [
    {
     "data": {
      "text/html": [
       "<div>\n",
       "<style scoped>\n",
       "    .dataframe tbody tr th:only-of-type {\n",
       "        vertical-align: middle;\n",
       "    }\n",
       "\n",
       "    .dataframe tbody tr th {\n",
       "        vertical-align: top;\n",
       "    }\n",
       "\n",
       "    .dataframe thead th {\n",
       "        text-align: right;\n",
       "    }\n",
       "</style>\n",
       "<table border=\"1\" class=\"dataframe\">\n",
       "  <thead>\n",
       "    <tr style=\"text-align: right;\">\n",
       "      <th></th>\n",
       "      <th>Unnamed: 0</th>\n",
       "      <th>Unnamed: 0.1</th>\n",
       "      <th>id</th>\n",
       "      <th>chain</th>\n",
       "      <th>dept</th>\n",
       "      <th>category</th>\n",
       "      <th>company</th>\n",
       "      <th>brand</th>\n",
       "      <th>date</th>\n",
       "      <th>productsize</th>\n",
       "      <th>productmeasure</th>\n",
       "      <th>purchasequantity</th>\n",
       "      <th>purchaseamount</th>\n",
       "    </tr>\n",
       "  </thead>\n",
       "  <tbody>\n",
       "    <tr>\n",
       "      <th>0</th>\n",
       "      <td>0</td>\n",
       "      <td>0</td>\n",
       "      <td>86246</td>\n",
       "      <td>205</td>\n",
       "      <td>7</td>\n",
       "      <td>707</td>\n",
       "      <td>1078778070</td>\n",
       "      <td>12564</td>\n",
       "      <td>2012-03-02</td>\n",
       "      <td>12.0</td>\n",
       "      <td>OZ</td>\n",
       "      <td>1</td>\n",
       "      <td>7.59</td>\n",
       "    </tr>\n",
       "    <tr>\n",
       "      <th>1</th>\n",
       "      <td>1</td>\n",
       "      <td>1</td>\n",
       "      <td>86246</td>\n",
       "      <td>205</td>\n",
       "      <td>63</td>\n",
       "      <td>6319</td>\n",
       "      <td>107654575</td>\n",
       "      <td>17876</td>\n",
       "      <td>2012-03-02</td>\n",
       "      <td>64.0</td>\n",
       "      <td>OZ</td>\n",
       "      <td>1</td>\n",
       "      <td>1.59</td>\n",
       "    </tr>\n",
       "    <tr>\n",
       "      <th>2</th>\n",
       "      <td>2</td>\n",
       "      <td>2</td>\n",
       "      <td>86246</td>\n",
       "      <td>205</td>\n",
       "      <td>97</td>\n",
       "      <td>9753</td>\n",
       "      <td>1022027929</td>\n",
       "      <td>0</td>\n",
       "      <td>2012-03-02</td>\n",
       "      <td>1.0</td>\n",
       "      <td>CT</td>\n",
       "      <td>1</td>\n",
       "      <td>5.99</td>\n",
       "    </tr>\n",
       "    <tr>\n",
       "      <th>3</th>\n",
       "      <td>3</td>\n",
       "      <td>3</td>\n",
       "      <td>86246</td>\n",
       "      <td>205</td>\n",
       "      <td>25</td>\n",
       "      <td>2509</td>\n",
       "      <td>107996777</td>\n",
       "      <td>31373</td>\n",
       "      <td>2012-03-02</td>\n",
       "      <td>16.0</td>\n",
       "      <td>OZ</td>\n",
       "      <td>1</td>\n",
       "      <td>1.99</td>\n",
       "    </tr>\n",
       "    <tr>\n",
       "      <th>4</th>\n",
       "      <td>4</td>\n",
       "      <td>4</td>\n",
       "      <td>86246</td>\n",
       "      <td>205</td>\n",
       "      <td>55</td>\n",
       "      <td>5555</td>\n",
       "      <td>107684070</td>\n",
       "      <td>32094</td>\n",
       "      <td>2012-03-02</td>\n",
       "      <td>16.0</td>\n",
       "      <td>OZ</td>\n",
       "      <td>2</td>\n",
       "      <td>10.38</td>\n",
       "    </tr>\n",
       "  </tbody>\n",
       "</table>\n",
       "</div>"
      ],
      "text/plain": [
       "   Unnamed: 0  Unnamed: 0.1     id  chain  dept  category     company  brand  \\\n",
       "0           0             0  86246    205     7       707  1078778070  12564   \n",
       "1           1             1  86246    205    63      6319   107654575  17876   \n",
       "2           2             2  86246    205    97      9753  1022027929      0   \n",
       "3           3             3  86246    205    25      2509   107996777  31373   \n",
       "4           4             4  86246    205    55      5555   107684070  32094   \n",
       "\n",
       "         date  productsize productmeasure  purchasequantity  purchaseamount  \n",
       "0  2012-03-02         12.0             OZ                 1            7.59  \n",
       "1  2012-03-02         64.0             OZ                 1            1.59  \n",
       "2  2012-03-02          1.0             CT                 1            5.99  \n",
       "3  2012-03-02         16.0             OZ                 1            1.99  \n",
       "4  2012-03-02         16.0             OZ                 2           10.38  "
      ]
     },
     "execution_count": 11,
     "metadata": {},
     "output_type": "execute_result"
    }
   ],
   "source": [
    "# Q.2. \n",
    "# want to peak @ the data again first \n",
    "shop_data.head()\n"
   ]
  },
  {
   "cell_type": "code",
   "execution_count": 125,
   "metadata": {
    "scrolled": true
   },
   "outputs": [
    {
     "data": {
      "text/plain": [
       "id\n",
       "86246       12609\n",
       "86252       12087\n",
       "12262064     1101\n",
       "12277270     1361\n",
       "12332190      684\n",
       "12524696      985\n",
       "12682470      806\n",
       "12996040      326\n",
       "13074629     1374\n",
       "13089312     1218\n",
       "13179265      903\n",
       "13251776     2391\n",
       "13387341      889\n",
       "13501141     2326\n",
       "13540129     1139\n",
       "13558712      532\n",
       "13563017      442\n",
       "13584134      547\n",
       "13744500     2232\n",
       "13807224     1304\n",
       "13873775     1463\n",
       "13974451      144\n",
       "14026320      690\n",
       "14049441      448\n",
       "14088807      680\n",
       "14101174      552\n",
       "14278542      404\n",
       "14381137      515\n",
       "14576147      817\n",
       "14632152      112\n",
       "            ...  \n",
       "97657346     1384\n",
       "97661544      471\n",
       "97664263     1128\n",
       "97667024     1202\n",
       "97669999      176\n",
       "97671336      344\n",
       "97671517     1383\n",
       "97674711     1409\n",
       "97676374      475\n",
       "97680900      450\n",
       "97682960     1293\n",
       "97684130      537\n",
       "97697018     2012\n",
       "97698632      954\n",
       "97703003      781\n",
       "97724049     2754\n",
       "97724346     1266\n",
       "97737931       93\n",
       "97751353      502\n",
       "97752092      374\n",
       "97754530      233\n",
       "97760033      344\n",
       "97763155     1391\n",
       "97763238      805\n",
       "97771034     1837\n",
       "97771975     1036\n",
       "97776300     1613\n",
       "97781522     1010\n",
       "97782380      564\n",
       "97795325     1363\n",
       "Length: 1215, dtype: int64"
      ]
     },
     "execution_count": 125,
     "metadata": {},
     "output_type": "execute_result"
    }
   ],
   "source": [
    "# 2. Create a column that shows the number of previous visits per customer. \n",
    "#num_visits= shop_data.groupby('id').count();\n",
    "#shop_data['visit_count']\n",
    "\n",
    "#shop_data.groupby('id', as_index=True).visit_count.count()\n",
    "#num_visits[:50]\n",
    "\n",
    "#shop_data['visit_count'] = shop_data.groupby('id').cumcount('id');\n",
    "visit_counts = shop_data.groupby('id').size()\n",
    "## quick check on print of series output\n",
    "#shop_data.head(15250).tail(500)\n",
    "#shop_data.tail(1250)\n",
    "visit_counts\n"
   ]
  },
  {
   "cell_type": "code",
   "execution_count": 13,
   "metadata": {},
   "outputs": [
    {
     "data": {
      "text/plain": [
       "pandas.core.series.Series"
      ]
     },
     "execution_count": 13,
     "metadata": {},
     "output_type": "execute_result"
    }
   ],
   "source": [
    "# Q 3.  ????\n",
    "# SQL query that would create a table (column) of the visit count per id as in pandas above.\n",
    "# NOTE : 'shop' is the name of the tabular data in the .csv for SQl to handle\n",
    "# I. tested this in my terminal with sqlite3 and it ,matches the pandas expression. previous to it.\n",
    "SELECT count(date) FROM shop GROUP BY id;"
   ]
  },
  {
   "cell_type": "code",
   "execution_count": 57,
   "metadata": {},
   "outputs": [
    {
     "ename": "AttributeError",
     "evalue": "module 'pandas' has no attribute 'Dataframe'",
     "output_type": "error",
     "traceback": [
      "\u001b[0;31m---------------------------------------------------------------------------\u001b[0m",
      "\u001b[0;31mAttributeError\u001b[0m                            Traceback (most recent call last)",
      "\u001b[0;32m<ipython-input-57-72eba97b22b4>\u001b[0m in \u001b[0;36m<module>\u001b[0;34m\u001b[0m\n\u001b[1;32m      1\u001b[0m \u001b[0;31m#Q.4\u001b[0m\u001b[0;34m\u001b[0m\u001b[0;34m\u001b[0m\u001b[0;34m\u001b[0m\u001b[0m\n\u001b[1;32m      2\u001b[0m \u001b[0;31m# shop_data['purchase_rolling~Sum'] = shop_data.groupby('id','dept' == 99).cumcount('purchaseamount');\u001b[0m\u001b[0;34m\u001b[0m\u001b[0;34m\u001b[0m\u001b[0;34m\u001b[0m\u001b[0m\n\u001b[0;32m----> 3\u001b[0;31m \u001b[0mshop_data\u001b[0m\u001b[0;34m[\u001b[0m\u001b[0mpd\u001b[0m\u001b[0;34m.\u001b[0m\u001b[0mDataframe\u001b[0m\u001b[0;34m(\u001b[0m\u001b[0mstuff\u001b[0m\u001b[0;34m)\u001b[0m\u001b[0;34m[\u001b[0m\u001b[0;34m'dept'\u001b[0m\u001b[0;34m]\u001b[0m \u001b[0;34m==\u001b[0m \u001b[0;36m99\u001b[0m\u001b[0;34m]\u001b[0m\u001b[0;34m[\u001b[0m\u001b[0;34m'purchaseamount'\u001b[0m\u001b[0;34m]\u001b[0m\u001b[0;34m.\u001b[0m\u001b[0mcumsum\u001b[0m\u001b[0;34m(\u001b[0m\u001b[0;34m)\u001b[0m\u001b[0;34m\u001b[0m\u001b[0;34m\u001b[0m\u001b[0m\n\u001b[0m",
      "\u001b[0;31mAttributeError\u001b[0m: module 'pandas' has no attribute 'Dataframe'"
     ]
    }
   ],
   "source": [
    "#Q.4 \n",
    "# shop_data['purchase_rolling~Sum'] = shop_data.groupby('id','dept' == 99).cumcount('purchaseamount');\n",
    "shop_data[pd.Dataframe(stuff)['dept'] == 99]['purchaseamount'].cumsum()"
   ]
  },
  {
   "cell_type": "code",
   "execution_count": 46,
   "metadata": {},
   "outputs": [],
   "source": [
    "stuff= shop_data.groupby('id')"
   ]
  },
  {
   "cell_type": "code",
   "execution_count": 44,
   "metadata": {},
   "outputs": [
    {
     "ename": "AttributeError",
     "evalue": "Cannot access attribute 'shape' of 'DataFrameGroupBy' objects, try using the 'apply' method",
     "output_type": "error",
     "traceback": [
      "\u001b[0;31m---------------------------------------------------------------------------\u001b[0m",
      "\u001b[0;31mAttributeError\u001b[0m                            Traceback (most recent call last)",
      "\u001b[0;32m<ipython-input-44-2bdfdaf389f1>\u001b[0m in \u001b[0;36m<module>\u001b[0;34m\u001b[0m\n\u001b[0;32m----> 1\u001b[0;31m \u001b[0mprint\u001b[0m \u001b[0;34m(\u001b[0m\u001b[0;34m'Dataset:'\u001b[0m \u001b[0;34m,\u001b[0m \u001b[0;34m'full_input_data:'\u001b[0m \u001b[0;34m,\u001b[0m \u001b[0mstuff\u001b[0m\u001b[0;34m.\u001b[0m\u001b[0mshape\u001b[0m\u001b[0;34m)\u001b[0m\u001b[0;34m;\u001b[0m\u001b[0;34m\u001b[0m\u001b[0;34m\u001b[0m\u001b[0m\n\u001b[0m",
      "\u001b[0;32m~/anaconda3/lib/python3.7/site-packages/pandas/core/groupby/groupby.py\u001b[0m in \u001b[0;36m__getattr__\u001b[0;34m(self, attr)\u001b[0m\n\u001b[1;32m    531\u001b[0m             \u001b[0;32mreturn\u001b[0m \u001b[0mself\u001b[0m\u001b[0;34m[\u001b[0m\u001b[0mattr\u001b[0m\u001b[0;34m]\u001b[0m\u001b[0;34m\u001b[0m\u001b[0;34m\u001b[0m\u001b[0m\n\u001b[1;32m    532\u001b[0m         \u001b[0;32mif\u001b[0m \u001b[0mhasattr\u001b[0m\u001b[0;34m(\u001b[0m\u001b[0mself\u001b[0m\u001b[0;34m.\u001b[0m\u001b[0mobj\u001b[0m\u001b[0;34m,\u001b[0m \u001b[0mattr\u001b[0m\u001b[0;34m)\u001b[0m\u001b[0;34m:\u001b[0m\u001b[0;34m\u001b[0m\u001b[0;34m\u001b[0m\u001b[0m\n\u001b[0;32m--> 533\u001b[0;31m             \u001b[0;32mreturn\u001b[0m \u001b[0mself\u001b[0m\u001b[0;34m.\u001b[0m\u001b[0m_make_wrapper\u001b[0m\u001b[0;34m(\u001b[0m\u001b[0mattr\u001b[0m\u001b[0;34m)\u001b[0m\u001b[0;34m\u001b[0m\u001b[0;34m\u001b[0m\u001b[0m\n\u001b[0m\u001b[1;32m    534\u001b[0m \u001b[0;34m\u001b[0m\u001b[0m\n\u001b[1;32m    535\u001b[0m         raise AttributeError(\"%r object has no attribute %r\" %\n",
      "\u001b[0;32m~/anaconda3/lib/python3.7/site-packages/pandas/core/groupby/groupby.py\u001b[0m in \u001b[0;36m_make_wrapper\u001b[0;34m(self, name)\u001b[0m\n\u001b[1;32m    568\u001b[0m                    \"using the 'apply' method\".format(kind, name,\n\u001b[1;32m    569\u001b[0m                                                      type(self).__name__))\n\u001b[0;32m--> 570\u001b[0;31m             \u001b[0;32mraise\u001b[0m \u001b[0mAttributeError\u001b[0m\u001b[0;34m(\u001b[0m\u001b[0mmsg\u001b[0m\u001b[0;34m)\u001b[0m\u001b[0;34m\u001b[0m\u001b[0;34m\u001b[0m\u001b[0m\n\u001b[0m\u001b[1;32m    571\u001b[0m \u001b[0;34m\u001b[0m\u001b[0m\n\u001b[1;32m    572\u001b[0m         \u001b[0mself\u001b[0m\u001b[0;34m.\u001b[0m\u001b[0m_set_group_selection\u001b[0m\u001b[0;34m(\u001b[0m\u001b[0;34m)\u001b[0m\u001b[0;34m\u001b[0m\u001b[0;34m\u001b[0m\u001b[0m\n",
      "\u001b[0;31mAttributeError\u001b[0m: Cannot access attribute 'shape' of 'DataFrameGroupBy' objects, try using the 'apply' method"
     ]
    }
   ],
   "source": [
    "print ('Dataset:' , 'full_input_data:' , stuff.shape);"
   ]
  },
  {
   "cell_type": "code",
   "execution_count": 59,
   "metadata": {},
   "outputs": [],
   "source": [
    "#Q. 5 \n",
    "\n",
    "shop_data_distince_days = shop_data.drop_duplicates(subset=['date'])"
   ]
  },
  {
   "cell_type": "code",
   "execution_count": 60,
   "metadata": {},
   "outputs": [
    {
     "data": {
      "text/html": [
       "<div>\n",
       "<style scoped>\n",
       "    .dataframe tbody tr th:only-of-type {\n",
       "        vertical-align: middle;\n",
       "    }\n",
       "\n",
       "    .dataframe tbody tr th {\n",
       "        vertical-align: top;\n",
       "    }\n",
       "\n",
       "    .dataframe thead th {\n",
       "        text-align: right;\n",
       "    }\n",
       "</style>\n",
       "<table border=\"1\" class=\"dataframe\">\n",
       "  <thead>\n",
       "    <tr style=\"text-align: right;\">\n",
       "      <th></th>\n",
       "      <th>Unnamed: 0</th>\n",
       "      <th>Unnamed: 0.1</th>\n",
       "      <th>id</th>\n",
       "      <th>chain</th>\n",
       "      <th>dept</th>\n",
       "      <th>category</th>\n",
       "      <th>company</th>\n",
       "      <th>brand</th>\n",
       "      <th>date</th>\n",
       "      <th>productsize</th>\n",
       "      <th>productmeasure</th>\n",
       "      <th>purchasequantity</th>\n",
       "      <th>purchaseamount</th>\n",
       "      <th>visit_count</th>\n",
       "    </tr>\n",
       "  </thead>\n",
       "  <tbody>\n",
       "    <tr>\n",
       "      <th>0</th>\n",
       "      <td>0</td>\n",
       "      <td>0</td>\n",
       "      <td>86246</td>\n",
       "      <td>205</td>\n",
       "      <td>7</td>\n",
       "      <td>707</td>\n",
       "      <td>1078778070</td>\n",
       "      <td>12564</td>\n",
       "      <td>2012-03-02</td>\n",
       "      <td>12.00</td>\n",
       "      <td>OZ</td>\n",
       "      <td>1</td>\n",
       "      <td>7.59</td>\n",
       "      <td>0</td>\n",
       "    </tr>\n",
       "    <tr>\n",
       "      <th>52</th>\n",
       "      <td>52</td>\n",
       "      <td>52</td>\n",
       "      <td>86246</td>\n",
       "      <td>205</td>\n",
       "      <td>8</td>\n",
       "      <td>809</td>\n",
       "      <td>101300010</td>\n",
       "      <td>8164</td>\n",
       "      <td>2012-03-03</td>\n",
       "      <td>12.00</td>\n",
       "      <td>OZ</td>\n",
       "      <td>1</td>\n",
       "      <td>1.29</td>\n",
       "      <td>52</td>\n",
       "    </tr>\n",
       "    <tr>\n",
       "      <th>59</th>\n",
       "      <td>59</td>\n",
       "      <td>59</td>\n",
       "      <td>86246</td>\n",
       "      <td>205</td>\n",
       "      <td>36</td>\n",
       "      <td>3601</td>\n",
       "      <td>104900040</td>\n",
       "      <td>3809</td>\n",
       "      <td>2012-03-04</td>\n",
       "      <td>20.00</td>\n",
       "      <td>OZ</td>\n",
       "      <td>1</td>\n",
       "      <td>1.69</td>\n",
       "      <td>59</td>\n",
       "    </tr>\n",
       "    <tr>\n",
       "      <th>71</th>\n",
       "      <td>71</td>\n",
       "      <td>71</td>\n",
       "      <td>86246</td>\n",
       "      <td>205</td>\n",
       "      <td>64</td>\n",
       "      <td>6408</td>\n",
       "      <td>108289686</td>\n",
       "      <td>6276</td>\n",
       "      <td>2012-03-05</td>\n",
       "      <td>0.75</td>\n",
       "      <td>LT</td>\n",
       "      <td>1</td>\n",
       "      <td>8.29</td>\n",
       "      <td>71</td>\n",
       "    </tr>\n",
       "    <tr>\n",
       "      <th>77</th>\n",
       "      <td>77</td>\n",
       "      <td>77</td>\n",
       "      <td>86246</td>\n",
       "      <td>205</td>\n",
       "      <td>70</td>\n",
       "      <td>7002</td>\n",
       "      <td>1030813737</td>\n",
       "      <td>25162</td>\n",
       "      <td>2012-03-06</td>\n",
       "      <td>30.00</td>\n",
       "      <td>CT</td>\n",
       "      <td>1</td>\n",
       "      <td>2.39</td>\n",
       "      <td>77</td>\n",
       "    </tr>\n",
       "  </tbody>\n",
       "</table>\n",
       "</div>"
      ],
      "text/plain": [
       "    Unnamed: 0  Unnamed: 0.1     id  chain  dept  category     company  brand  \\\n",
       "0            0             0  86246    205     7       707  1078778070  12564   \n",
       "52          52            52  86246    205     8       809   101300010   8164   \n",
       "59          59            59  86246    205    36      3601   104900040   3809   \n",
       "71          71            71  86246    205    64      6408   108289686   6276   \n",
       "77          77            77  86246    205    70      7002  1030813737  25162   \n",
       "\n",
       "          date  productsize productmeasure  purchasequantity  purchaseamount  \\\n",
       "0   2012-03-02        12.00             OZ                 1            7.59   \n",
       "52  2012-03-03        12.00             OZ                 1            1.29   \n",
       "59  2012-03-04        20.00             OZ                 1            1.69   \n",
       "71  2012-03-05         0.75             LT                 1            8.29   \n",
       "77  2012-03-06        30.00             CT                 1            2.39   \n",
       "\n",
       "    visit_count  \n",
       "0             0  \n",
       "52           52  \n",
       "59           59  \n",
       "71           71  \n",
       "77           77  "
      ]
     },
     "execution_count": 60,
     "metadata": {},
     "output_type": "execute_result"
    }
   ],
   "source": [
    "shop_data_distince_days.head()"
   ]
  },
  {
   "cell_type": "code",
   "execution_count": 61,
   "metadata": {},
   "outputs": [],
   "source": [
    "distict_visit_counter = shop_data_distince_days.groupby('id').cumcount('')\n"
   ]
  },
  {
   "cell_type": "code",
   "execution_count": 63,
   "metadata": {},
   "outputs": [
    {
     "data": {
      "text/plain": [
       "pandas.core.series.Series"
      ]
     },
     "execution_count": 63,
     "metadata": {},
     "output_type": "execute_result"
    }
   ],
   "source": [
    "type(distict_visit_counter)\n",
    "#distict_visit_counter\n"
   ]
  },
  {
   "cell_type": "code",
   "execution_count": 88,
   "metadata": {},
   "outputs": [
    {
     "data": {
      "text/plain": [
       "id\n",
       "86246       381\n",
       "86252       368\n",
       "12262064    237\n",
       "12277270    184\n",
       "12332190    113\n",
       "12524696    161\n",
       "12682470    141\n",
       "12996040     39\n",
       "13074629    147\n",
       "13089312    132\n",
       "13179265     92\n",
       "13251776    134\n",
       "13387341    147\n",
       "13501141    132\n",
       "13540129    254\n",
       "13558712    116\n",
       "13563017     97\n",
       "13584134     56\n",
       "13744500     94\n",
       "13807224    152\n",
       "13873775    112\n",
       "13974451     19\n",
       "14026320    112\n",
       "14049441    119\n",
       "14088807     52\n",
       "14101174     30\n",
       "14278542     77\n",
       "14381137     39\n",
       "14576147     76\n",
       "14632152     33\n",
       "           ... \n",
       "97657346    163\n",
       "97661544    164\n",
       "97664263     76\n",
       "97667024     91\n",
       "97669999     32\n",
       "97671336     79\n",
       "97671517    118\n",
       "97674711     66\n",
       "97676374     80\n",
       "97680900     86\n",
       "97682960     67\n",
       "97684130     62\n",
       "97697018    140\n",
       "97698632    106\n",
       "97703003    121\n",
       "97724049    238\n",
       "97724346     70\n",
       "97737931     31\n",
       "97751353     30\n",
       "97752092    145\n",
       "97754530     32\n",
       "97760033     44\n",
       "97763155    142\n",
       "97763238     72\n",
       "97771034    175\n",
       "97771975    117\n",
       "97776300     89\n",
       "97781522    101\n",
       "97782380     32\n",
       "97795325    134\n",
       "Name: date, Length: 1215, dtype: int64"
      ]
     },
     "execution_count": 88,
     "metadata": {},
     "output_type": "execute_result"
    }
   ],
   "source": [
    "#pd.Dataframe(distict_visit_counter)\n",
    "#Q. 5 Continued ...\n",
    "distict_visit_countDaysUniq = shop_data.groupby('id')['date'].nunique();\n",
    "#distict_visit_counterCol = shop_data_distince_days.groupby('id').count();\n",
    "\n",
    "distict_visit_countDaysUniq"
   ]
  },
  {
   "cell_type": "markdown",
   "metadata": {},
   "source": [
    "# Q5 \n",
    "\n",
    "plt.plot(distict_visit_countDaysUniq[0],distict_visit_countDaysUniq[1])\n"
   ]
  },
  {
   "cell_type": "code",
   "execution_count": 96,
   "metadata": {},
   "outputs": [
    {
     "data": {
      "text/plain": [
       "[<matplotlib.lines.Line2D at 0x1a2bd27320>]"
      ]
     },
     "execution_count": 96,
     "metadata": {},
     "output_type": "execute_result"
    },
    {
     "data": {
      "image/png": "[encoded data removed]",
      "text/plain": [
       "<Figure size 432x288 with 1 Axes>"
      ]
     },
     "metadata": {
      "needs_background": "light"
     },
     "output_type": "display_data"
    }
   ],
   "source": [
    "#distict_visit_counter.to_frame().reset_index();\n",
    "#Q5 still  - HIstogrm - frequecy distribution of each customer - distinct day visits:\n",
    "ploTQ5histo=pd.Series.plot(distict_visit_countDaysUniq)\n",
    "plt.plot(distict_visit_countDaysUniq)"
   ]
  },
  {
   "cell_type": "code",
   "execution_count": 67,
   "metadata": {},
   "outputs": [],
   "source": [
    "distict_visit_count = shop_data_distince_days.groupby('id').count()"
   ]
  },
  {
   "cell_type": "code",
   "execution_count": 69,
   "metadata": {},
   "outputs": [
    {
     "data": {
      "text/html": [
       "<div>\n",
       "<style scoped>\n",
       "    .dataframe tbody tr th:only-of-type {\n",
       "        vertical-align: middle;\n",
       "    }\n",
       "\n",
       "    .dataframe tbody tr th {\n",
       "        vertical-align: top;\n",
       "    }\n",
       "\n",
       "    .dataframe thead th {\n",
       "        text-align: right;\n",
       "    }\n",
       "</style>\n",
       "<table border=\"1\" class=\"dataframe\">\n",
       "  <thead>\n",
       "    <tr style=\"text-align: right;\">\n",
       "      <th></th>\n",
       "      <th>Unnamed: 0</th>\n",
       "      <th>Unnamed: 0.1</th>\n",
       "      <th>chain</th>\n",
       "      <th>dept</th>\n",
       "      <th>category</th>\n",
       "      <th>company</th>\n",
       "      <th>brand</th>\n",
       "      <th>date</th>\n",
       "      <th>productsize</th>\n",
       "      <th>productmeasure</th>\n",
       "      <th>purchasequantity</th>\n",
       "      <th>purchaseamount</th>\n",
       "      <th>visit_count</th>\n",
       "    </tr>\n",
       "    <tr>\n",
       "      <th>id</th>\n",
       "      <th></th>\n",
       "      <th></th>\n",
       "      <th></th>\n",
       "      <th></th>\n",
       "      <th></th>\n",
       "      <th></th>\n",
       "      <th></th>\n",
       "      <th></th>\n",
       "      <th></th>\n",
       "      <th></th>\n",
       "      <th></th>\n",
       "      <th></th>\n",
       "      <th></th>\n",
       "    </tr>\n",
       "  </thead>\n",
       "  <tbody>\n",
       "    <tr>\n",
       "      <th>86246</th>\n",
       "      <td>381</td>\n",
       "      <td>381</td>\n",
       "      <td>381</td>\n",
       "      <td>381</td>\n",
       "      <td>381</td>\n",
       "      <td>381</td>\n",
       "      <td>381</td>\n",
       "      <td>381</td>\n",
       "      <td>381</td>\n",
       "      <td>377</td>\n",
       "      <td>381</td>\n",
       "      <td>381</td>\n",
       "      <td>381</td>\n",
       "    </tr>\n",
       "    <tr>\n",
       "      <th>86252</th>\n",
       "      <td>31</td>\n",
       "      <td>31</td>\n",
       "      <td>31</td>\n",
       "      <td>31</td>\n",
       "      <td>31</td>\n",
       "      <td>31</td>\n",
       "      <td>31</td>\n",
       "      <td>31</td>\n",
       "      <td>31</td>\n",
       "      <td>31</td>\n",
       "      <td>31</td>\n",
       "      <td>31</td>\n",
       "      <td>31</td>\n",
       "    </tr>\n",
       "    <tr>\n",
       "      <th>12262064</th>\n",
       "      <td>40</td>\n",
       "      <td>40</td>\n",
       "      <td>40</td>\n",
       "      <td>40</td>\n",
       "      <td>40</td>\n",
       "      <td>40</td>\n",
       "      <td>40</td>\n",
       "      <td>40</td>\n",
       "      <td>40</td>\n",
       "      <td>40</td>\n",
       "      <td>40</td>\n",
       "      <td>40</td>\n",
       "      <td>40</td>\n",
       "    </tr>\n",
       "    <tr>\n",
       "      <th>12277270</th>\n",
       "      <td>5</td>\n",
       "      <td>5</td>\n",
       "      <td>5</td>\n",
       "      <td>5</td>\n",
       "      <td>5</td>\n",
       "      <td>5</td>\n",
       "      <td>5</td>\n",
       "      <td>5</td>\n",
       "      <td>5</td>\n",
       "      <td>5</td>\n",
       "      <td>5</td>\n",
       "      <td>5</td>\n",
       "      <td>5</td>\n",
       "    </tr>\n",
       "    <tr>\n",
       "      <th>12332190</th>\n",
       "      <td>5</td>\n",
       "      <td>5</td>\n",
       "      <td>5</td>\n",
       "      <td>5</td>\n",
       "      <td>5</td>\n",
       "      <td>5</td>\n",
       "      <td>5</td>\n",
       "      <td>5</td>\n",
       "      <td>5</td>\n",
       "      <td>5</td>\n",
       "      <td>5</td>\n",
       "      <td>5</td>\n",
       "      <td>5</td>\n",
       "    </tr>\n",
       "  </tbody>\n",
       "</table>\n",
       "</div>"
      ],
      "text/plain": [
       "          Unnamed: 0  Unnamed: 0.1  chain  dept  category  company  brand  \\\n",
       "id                                                                          \n",
       "86246            381           381    381   381       381      381    381   \n",
       "86252             31            31     31    31        31       31     31   \n",
       "12262064          40            40     40    40        40       40     40   \n",
       "12277270           5             5      5     5         5        5      5   \n",
       "12332190           5             5      5     5         5        5      5   \n",
       "\n",
       "          date  productsize  productmeasure  purchasequantity  purchaseamount  \\\n",
       "id                                                                              \n",
       "86246      381          381             377               381             381   \n",
       "86252       31           31              31                31              31   \n",
       "12262064    40           40              40                40              40   \n",
       "12277270     5            5               5                 5               5   \n",
       "12332190     5            5               5                 5               5   \n",
       "\n",
       "          visit_count  \n",
       "id                     \n",
       "86246             381  \n",
       "86252              31  \n",
       "12262064           40  \n",
       "12277270            5  \n",
       "12332190            5  "
      ]
     },
     "execution_count": 69,
     "metadata": {},
     "output_type": "execute_result"
    }
   ],
   "source": [
    "distict_visit_count.head()"
   ]
  },
  {
   "cell_type": "code",
   "execution_count": 138,
   "metadata": {},
   "outputs": [
    {
     "ename": "ValueError",
     "evalue": "No axis named date for object type <class 'type'>",
     "output_type": "error",
     "traceback": [
      "\u001b[0;31m---------------------------------------------------------------------------\u001b[0m",
      "\u001b[0;31mValueError\u001b[0m                                Traceback (most recent call last)",
      "\u001b[0;32m<ipython-input-138-e845515071df>\u001b[0m in \u001b[0;36m<module>\u001b[0;34m\u001b[0m\n\u001b[1;32m      5\u001b[0m \u001b[0;34m\u001b[0m\u001b[0m\n\u001b[1;32m      6\u001b[0m \u001b[0;31m# start with aggregating dates per customer id :\u001b[0m\u001b[0;34m\u001b[0m\u001b[0;34m\u001b[0m\u001b[0;34m\u001b[0m\u001b[0m\n\u001b[0;32m----> 7\u001b[0;31m \u001b[0magg_purcaheQuants_per_id\u001b[0m \u001b[0;34m=\u001b[0m \u001b[0mshop_data\u001b[0m\u001b[0;34m.\u001b[0m\u001b[0mgroupby\u001b[0m\u001b[0;34m(\u001b[0m\u001b[0;34m'id'\u001b[0m\u001b[0;34m,\u001b[0m\u001b[0;34m'date'\u001b[0m\u001b[0;34m)\u001b[0m\u001b[0;34m[\u001b[0m\u001b[0;34m'purchasequantity'\u001b[0m\u001b[0;34m]\u001b[0m\u001b[0;34m.\u001b[0m\u001b[0msum\u001b[0m\u001b[0;34m(\u001b[0m\u001b[0;34m)\u001b[0m\u001b[0;34m;\u001b[0m\u001b[0;34m\u001b[0m\u001b[0;34m\u001b[0m\u001b[0m\n\u001b[0m\u001b[1;32m      8\u001b[0m \u001b[0;31m#type(agg_purcaheQuants_per_id)  #.to_frame().aggregate({'purchasequantity',np.sum})\u001b[0m\u001b[0;34m\u001b[0m\u001b[0;34m\u001b[0m\u001b[0;34m\u001b[0m\u001b[0m\n\u001b[1;32m      9\u001b[0m \u001b[0magg_purcaheQuants_per_id\u001b[0m\u001b[0;34m\u001b[0m\u001b[0;34m\u001b[0m\u001b[0m\n",
      "\u001b[0;32m~/anaconda3/lib/python3.7/site-packages/pandas/core/generic.py\u001b[0m in \u001b[0;36mgroupby\u001b[0;34m(self, by, axis, level, as_index, sort, group_keys, squeeze, observed, **kwargs)\u001b[0m\n\u001b[1;32m   7627\u001b[0m         \u001b[0;32mif\u001b[0m \u001b[0mlevel\u001b[0m \u001b[0;32mis\u001b[0m \u001b[0;32mNone\u001b[0m \u001b[0;32mand\u001b[0m \u001b[0mby\u001b[0m \u001b[0;32mis\u001b[0m \u001b[0;32mNone\u001b[0m\u001b[0;34m:\u001b[0m\u001b[0;34m\u001b[0m\u001b[0;34m\u001b[0m\u001b[0m\n\u001b[1;32m   7628\u001b[0m             \u001b[0;32mraise\u001b[0m \u001b[0mTypeError\u001b[0m\u001b[0;34m(\u001b[0m\u001b[0;34m\"You have to supply one of 'by' and 'level'\"\u001b[0m\u001b[0;34m)\u001b[0m\u001b[0;34m\u001b[0m\u001b[0;34m\u001b[0m\u001b[0m\n\u001b[0;32m-> 7629\u001b[0;31m         \u001b[0maxis\u001b[0m \u001b[0;34m=\u001b[0m \u001b[0mself\u001b[0m\u001b[0;34m.\u001b[0m\u001b[0m_get_axis_number\u001b[0m\u001b[0;34m(\u001b[0m\u001b[0maxis\u001b[0m\u001b[0;34m)\u001b[0m\u001b[0;34m\u001b[0m\u001b[0;34m\u001b[0m\u001b[0m\n\u001b[0m\u001b[1;32m   7630\u001b[0m         return groupby(self, by=by, axis=axis, level=level, as_index=as_index,\n\u001b[1;32m   7631\u001b[0m                        \u001b[0msort\u001b[0m\u001b[0;34m=\u001b[0m\u001b[0msort\u001b[0m\u001b[0;34m,\u001b[0m \u001b[0mgroup_keys\u001b[0m\u001b[0;34m=\u001b[0m\u001b[0mgroup_keys\u001b[0m\u001b[0;34m,\u001b[0m \u001b[0msqueeze\u001b[0m\u001b[0;34m=\u001b[0m\u001b[0msqueeze\u001b[0m\u001b[0;34m,\u001b[0m\u001b[0;34m\u001b[0m\u001b[0;34m\u001b[0m\u001b[0m\n",
      "\u001b[0;32m~/anaconda3/lib/python3.7/site-packages/pandas/core/generic.py\u001b[0m in \u001b[0;36m_get_axis_number\u001b[0;34m(cls, axis)\u001b[0m\n\u001b[1;32m    359\u001b[0m                 \u001b[0;32mpass\u001b[0m\u001b[0;34m\u001b[0m\u001b[0;34m\u001b[0m\u001b[0m\n\u001b[1;32m    360\u001b[0m         raise ValueError('No axis named {0} for object type {1}'\n\u001b[0;32m--> 361\u001b[0;31m                          .format(axis, type(cls)))\n\u001b[0m\u001b[1;32m    362\u001b[0m \u001b[0;34m\u001b[0m\u001b[0m\n\u001b[1;32m    363\u001b[0m     \u001b[0;34m@\u001b[0m\u001b[0mclassmethod\u001b[0m\u001b[0;34m\u001b[0m\u001b[0;34m\u001b[0m\u001b[0m\n",
      "\u001b[0;31mValueError\u001b[0m: No axis named date for object type <class 'type'>"
     ]
    }
   ],
   "source": [
    "# Q. 7 function that 'looks into future'\n",
    "\n",
    "# Not entirely sure what 'looks into future' means here , but I asssume it is referring to analytical model that , \n",
    "# when applied to data in this dataset it can use today's\" data to 'predict' the nature of the following 5 days(which is technically known in advance ??)\n",
    "\n",
    "# start with aggregating dates per customer id :\n",
    "agg_purcaheQuants_per_id = shop_data.groupby('date')['purchasequantity'].mean();\n",
    "#type(agg_purcaheQuants_per_id)  #.to_frame().aggregate({'purchasequantity',np.sum})\n",
    "agg_purcaheQuants_per_id\n",
    "\n",
    "def fiveRFowsPredict(data):\n",
    "    \n",
    "    for indx in range(data.size()-5):\n",
    "        Sum=0\n",
    "        # store the day from the current rows date as an integer\n",
    "        date_day = int(data.loc[indx,\"date\"].split('/')[-1])\n",
    "        for indx_window in range(0,5):\n",
    "            Sum + = data.loc[indx_window,\"purchasequantity\"] \n",
    "            \n",
    "            # Define some 'predictive' condition that says if the average no. of purchases in a 5 day \n",
    "            # period greater than 0 then they will yield a '1' value, AND we are @ 5 business days later\n",
    "            last_day= data.loc[indx_window,\"date\"].split('/')[-1])\n",
    "            if Sum/5 > 0 and (last_day == date_day +5:\n",
    "                              # append to new column appropriately:\n",
    "                              data.loc[indx,\"future_look\"] = 1\n",
    "            else:\n",
    "                              \n",
    "                              data.loc[indx,\"future_look\"] = 0\n",
    "                              \n",
    "           return data                   \n",
    "    \n",
    "    "
   ]
  },
  {
   "cell_type": "code",
   "execution_count": 54,
   "metadata": {},
   "outputs": [
    {
     "data": {
      "text/plain": [
       "date\n",
       "2012-03-02    13549.83\n",
       "2012-03-03    11718.47\n",
       "2012-03-04    15462.87\n",
       "2012-03-05    10567.91\n",
       "2012-03-06    10167.25\n",
       "Name: purchaseamount, dtype: float64"
      ]
     },
     "execution_count": 54,
     "metadata": {},
     "output_type": "execute_result"
    }
   ],
   "source": [
    "# Q 8. histogram of daily spending per customer : ??\n",
    "purchaseSumperDay = shop_data.groupby(['date']).purchaseamount.sum();\n",
    "purchaseSumperDay.head()\n"
   ]
  },
  {
   "cell_type": "code",
   "execution_count": 53,
   "metadata": {},
   "outputs": [
    {
     "data": {
      "text/plain": [
       "[<matplotlib.lines.Line2D at 0x1a2df201d0>]"
      ]
     },
     "execution_count": 53,
     "metadata": {},
     "output_type": "execute_result"
    },
    {
     "data": {
      "image/png": "[encoded data removed]",
      "text/plain": [
       "<Figure size 432x288 with 1 Axes>"
      ]
     },
     "metadata": {
      "needs_background": "light"
     },
     "output_type": "display_data"
    }
   ],
   "source": [
    "# Q 8. continued...\n",
    "plt.plot(shop_data['date'].unique(),purchaseSumperDay)"
   ]
  },
  {
   "cell_type": "code",
   "execution_count": 111,
   "metadata": {},
   "outputs": [],
   "source": [
    "# Q. 09. - use pd Diff to create a new column with shift in dates from previous row :\n",
    "\n",
    "#shop_data['date_shift'] = shop_data.groupby('id')['date'].diff()\n",
    "\n",
    "#shop_data['diff'] = shop_data['date'].sub(shop_data['date'].shift(-1)) #(shop_data['date'] / np.datetime64(1, 'D')) - (shop_data['date'] / np.datetime64(1, 'D'))#).shift(-1)\n",
    "shop_data['shift'] = shop_data['date'].shift(1)"
   ]
  },
  {
   "cell_type": "code",
   "execution_count": 112,
   "metadata": {},
   "outputs": [
    {
     "data": {
      "text/plain": [
       "0           NaN\n",
       "1    2012-03-02\n",
       "2    2012-03-02\n",
       "3    2012-03-02\n",
       "4    2012-03-02\n",
       "Name: shift, dtype: object"
      ]
     },
     "execution_count": 112,
     "metadata": {},
     "output_type": "execute_result"
    }
   ],
   "source": [
    "shop_data['shift'].head()"
   ]
  },
  {
   "cell_type": "code",
   "execution_count": null,
   "metadata": {},
   "outputs": [],
   "source": [
    "#Q . 10 "
   ]
  },
  {
   "cell_type": "markdown",
   "metadata": {},
   "source": []
  },
  {
   "cell_type": "code",
   "execution_count": null,
   "metadata": {},
   "outputs": [],
   "source": [
    "#Q . 11 "
   ]
  },
  {
   "cell_type": "code",
   "execution_count": null,
   "metadata": {},
   "outputs": [],
   "source": [
    "# Q .12. \n",
    "##   1. What other data do you wish you could have had access to?\n",
    "#    2. In your opinion, what would the company holding this data care about?\n",
    "#    3. What would be your target variable (label)?\n",
    "#    4. What machine learning algorithm would you implement and why?\n",
    "#    5. What type of visualization would be helpful?\n",
    "# \n",
    "# Ans. 1.  Some info. on the customers would have been useful - in order to give more'personality' to the dataset. Eg. the \n",
    "# gender and age of the customers - this kind of data would help with future marketing changhes etc. As certain demogrphics\n",
    "# could be targeted better given their spending. performance here.\n",
    "\n",
    "# A2.  The company holding this data would care about attracting more visits and spend from the low frequency/spending customers\n",
    "#  And also retaining the high freq & spending customers.\n",
    "\n",
    "# A3.  the target variable here for me would be possibly average spend per visit. With of course the view to increasing this\n",
    "\n",
    "# A4.  given I have chosen the continous target in 3 above, ineed to. choose an ML alg. that is good with regressive data.\n",
    "#. I think. an LDT , most likely a random forest could be a good choice here. As it handles this kind of data well and also it is much more transparent/debuggable than \n",
    "# eg . a deep NN.  Each of the new columns created in the exercise could be new features to split uopon in the Decision trees.\n",
    "\n",
    "# A. 5 A v. useful visualization not in this EDA & to driuve feature selection for anML algorithm would be Correlatrion type matrix visualization.\n",
    "# this would be quite constructive in seeingwhat existing features (columns) or constructed features are helpful - by examimning\n",
    "# their correlation with the target/ label variable."
   ]
  }
 ],
 "metadata": {
  "kernelspec": {
   "display_name": "Python 3",
   "language": "python",
   "name": "python3"
  },
  "language_info": {
   "codemirror_mode": {
    "name": "ipython",
    "version": 3
   },
   "file_extension": ".py",
   "mimetype": "text/x-python",
   "name": "python",
   "nbconvert_exporter": "python",
   "pygments_lexer": "ipython3",
   "version": "3.7.3"
  }
 },
 "nbformat": 4,
 "nbformat_minor": 2
}
